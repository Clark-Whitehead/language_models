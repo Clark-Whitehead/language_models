{
 "cells": [
  {
   "cell_type": "code",
   "execution_count": 1,
   "metadata": {},
   "outputs": [],
   "source": [
    "import torch\n",
    "import torch.nn.functional as F\n",
    "\n",
    "import matplotlib.pyplot as plt\n",
    "plt.style.use('ggplot')"
   ]
  },
  {
   "cell_type": "code",
   "execution_count": 2,
   "metadata": {},
   "outputs": [
    {
     "data": {
      "text/plain": [
       "['emma', 'olivia', 'ava', 'isabella', 'sophia']"
      ]
     },
     "execution_count": 2,
     "metadata": {},
     "output_type": "execute_result"
    }
   ],
   "source": [
    "names = open('../data/names.txt', 'r').read().splitlines()\n",
    "names[:5]"
   ]
  },
  {
   "cell_type": "code",
   "execution_count": 3,
   "metadata": {},
   "outputs": [],
   "source": [
    "chs = sorted(set(''.join(names)))\n",
    "stoi = {s: i+1 for i, s in enumerate(chs)}\n",
    "stoi['.'] = 0\n",
    "itos = {i: s for s, i in stoi.items()}"
   ]
  },
  {
   "cell_type": "code",
   "execution_count": 4,
   "metadata": {},
   "outputs": [],
   "source": [
    "#create data set\n",
    "X, y = [], []\n",
    "\n",
    "block_size = 3\n",
    "emb_size = 2\n",
    "emb_cat_size = block_size * emb_size\n",
    "\n",
    "\n",
    "for name in names[:5]:\n",
    "    \n",
    "    context = [0] * block_size\n",
    "    \n",
    "    for ch in name + '.':\n",
    "        \n",
    "        idx = stoi[ch]\n",
    "        \n",
    "        X.append(context)\n",
    "        y.append(idx)\n",
    "        \n",
    "        \n",
    "        context = context[1:] + [idx]      \n",
    "        \n",
    "X = torch.tensor(X)\n",
    "y = torch.tensor(y)\n",
    "\n",
    "# X"
   ]
  },
  {
   "cell_type": "code",
   "execution_count": 5,
   "metadata": {},
   "outputs": [],
   "source": [
    "C = torch.randn(27, emb_size)"
   ]
  },
  {
   "cell_type": "code",
   "execution_count": 6,
   "metadata": {},
   "outputs": [
    {
     "data": {
      "text/plain": [
       "torch.Size([32, 3])"
      ]
     },
     "execution_count": 6,
     "metadata": {},
     "output_type": "execute_result"
    }
   ],
   "source": [
    "X.shape"
   ]
  },
  {
   "cell_type": "code",
   "execution_count": 7,
   "metadata": {},
   "outputs": [
    {
     "data": {
      "text/plain": [
       "tensor([[[1.1661, 0.6062],\n",
       "         [1.1661, 0.6062],\n",
       "         [1.1661, 0.6062]]])"
      ]
     },
     "execution_count": 7,
     "metadata": {},
     "output_type": "execute_result"
    }
   ],
   "source": [
    "emb = C[X]\n",
    "emb[:1]"
   ]
  },
  {
   "cell_type": "code",
   "execution_count": 50,
   "metadata": {},
   "outputs": [],
   "source": [
    "emb = C[X].view(-1, emb_cat_size)"
   ]
  },
  {
   "cell_type": "code",
   "execution_count": 51,
   "metadata": {},
   "outputs": [],
   "source": [
    "W1 = torch.randn(emb_cat_size, 100) #6 x 100\n",
    "b1 = torch.randn(100) #1 x 100"
   ]
  },
  {
   "cell_type": "code",
   "execution_count": 52,
   "metadata": {},
   "outputs": [],
   "source": [
    "W2 = torch.randn(100, 27)\n",
    "b2 = torch.randn(27)"
   ]
  },
  {
   "cell_type": "code",
   "execution_count": 53,
   "metadata": {},
   "outputs": [],
   "source": [
    "parameters = [C, W1, b1, W2, b2]\n",
    "for p in parameters:\n",
    "    p.requires_grad = True"
   ]
  },
  {
   "cell_type": "code",
   "execution_count": 54,
   "metadata": {},
   "outputs": [],
   "source": [
    "h = torch.tanh(emb @ W1 + b1) # 32 x 100"
   ]
  },
  {
   "cell_type": "code",
   "execution_count": 31,
   "metadata": {},
   "outputs": [
    {
     "data": {
      "text/plain": [
       "'# of parameters = 3481'"
      ]
     },
     "execution_count": 31,
     "metadata": {},
     "output_type": "execute_result"
    }
   ],
   "source": [
    "f\"# of parameters = {sum(p.nelement() for p in parameters)}\""
   ]
  },
  {
   "cell_type": "code",
   "execution_count": 55,
   "metadata": {},
   "outputs": [
    {
     "data": {
      "text/plain": [
       "tensor(17.8374, grad_fn=<NllLossBackward0>)"
      ]
     },
     "execution_count": 55,
     "metadata": {},
     "output_type": "execute_result"
    }
   ],
   "source": [
    "logits = h @ W2 + b2\n",
    "\n",
    "loss = F.cross_entropy(logits, y)\n",
    "loss"
   ]
  },
  {
   "cell_type": "code",
   "execution_count": 56,
   "metadata": {},
   "outputs": [],
   "source": [
    "for p in parameters:\n",
    "    p.grad = None"
   ]
  },
  {
   "cell_type": "code",
   "execution_count": 57,
   "metadata": {},
   "outputs": [],
   "source": [
    "loss.backward()"
   ]
  },
  {
   "cell_type": "code",
   "execution_count": 58,
   "metadata": {},
   "outputs": [],
   "source": [
    "for p in parameters:\n",
    "    p.data += -0.01 * p.grad"
   ]
  },
  {
   "cell_type": "code",
   "execution_count": 59,
   "metadata": {},
   "outputs": [
    {
     "name": "stdout",
     "output_type": "stream",
     "text": [
      "17.837352752685547\n"
     ]
    }
   ],
   "source": [
    "print(loss.item())"
   ]
  },
  {
   "cell_type": "code",
   "execution_count": 48,
   "metadata": {},
   "outputs": [
    {
     "name": "stdout",
     "output_type": "stream",
     "text": [
      "13.807954788208008\n"
     ]
    },
    {
     "ename": "TypeError",
     "evalue": "unsupported operand type(s) for *: 'float' and 'NoneType'",
     "output_type": "error",
     "traceback": [
      "\u001b[0;31m---------------------------------------------------------------------------\u001b[0m",
      "\u001b[0;31mTypeError\u001b[0m                                 Traceback (most recent call last)",
      "\u001b[0;32m<ipython-input-48-f856f5bb687b>\u001b[0m in \u001b[0;36m<module>\u001b[0;34m\u001b[0m\n\u001b[1;32m     13\u001b[0m \u001b[0mloss\u001b[0m\u001b[0;34m.\u001b[0m\u001b[0mbackward\u001b[0m\u001b[0;34m(\u001b[0m\u001b[0;34m)\u001b[0m\u001b[0;34m\u001b[0m\u001b[0;34m\u001b[0m\u001b[0m\n\u001b[1;32m     14\u001b[0m \u001b[0;32mfor\u001b[0m \u001b[0mp\u001b[0m \u001b[0;32min\u001b[0m \u001b[0mparameters\u001b[0m\u001b[0;34m:\u001b[0m\u001b[0;34m\u001b[0m\u001b[0;34m\u001b[0m\u001b[0m\n\u001b[0;32m---> 15\u001b[0;31m     \u001b[0mp\u001b[0m\u001b[0;34m.\u001b[0m\u001b[0mdata\u001b[0m \u001b[0;34m+=\u001b[0m \u001b[0;34m-\u001b[0m\u001b[0;36m0.01\u001b[0m \u001b[0;34m*\u001b[0m \u001b[0mp\u001b[0m\u001b[0;34m.\u001b[0m\u001b[0mgrad\u001b[0m\u001b[0;34m\u001b[0m\u001b[0;34m\u001b[0m\u001b[0m\n\u001b[0m",
      "\u001b[0;31mTypeError\u001b[0m: unsupported operand type(s) for *: 'float' and 'NoneType'"
     ]
    }
   ],
   "source": [
    "#mine combined - works, but above same code doesn't. Because defining the weights?\n",
    "emb = C[X].view(-1, emb_cat_size)\n",
    "W1 = torch.randn(emb_cat_size, 100) #6 x 100\n",
    "b1 = torch.randn(100) #1 x 100\n",
    "h = torch.tanh(emb @ W1 + b1) # 32 x 100\n",
    "W2 = torch.randn(100, 27)\n",
    "b2 = torch.randn(27)\n",
    "logits = h @ W2 + b2\n",
    "loss = F.cross_entropy(logits, y)\n",
    "print(loss.item())\n",
    "for p in parameters:\n",
    "    p.grad = None\n",
    "loss.backward()\n",
    "for p in parameters:\n",
    "    p.data += -0.01 * p.grad"
   ]
  },
  {
   "cell_type": "code",
   "execution_count": 142,
   "metadata": {},
   "outputs": [],
   "source": [
    "W1 = torch.randn(emb_cat_size, 100) #6 x 100\n",
    "b1 = torch.randn(100) #1 x 100\n",
    "\n",
    "W2 = torch.randn(100, 27)\n",
    "b2 = torch.randn(27)\n",
    "\n",
    "parameters = [C, W1, b1, W2, b2]\n",
    "\n",
    "for p in parameters:\n",
    "    p.requires_grad = True\n",
    "    \n",
    "for p in parameters:\n",
    "    p = p.cpu()"
   ]
  },
  {
   "cell_type": "code",
   "execution_count": 143,
   "metadata": {},
   "outputs": [
    {
     "name": "stdout",
     "output_type": "stream",
     "text": [
      "14.539395332336426\n",
      "0.2939387559890747\n",
      "0.26897290349006653\n",
      "0.2625206708908081\n",
      "0.25955408811569214\n",
      "0.2578466832637787\n",
      "0.2567363977432251\n",
      "0.2559562027454376\n",
      "0.25537773966789246\n",
      "0.2549316883087158\n"
     ]
    }
   ],
   "source": [
    "#mine combined - works, but above same code doesn't. Because defining the weights?\n",
    "for i in range(10000):\n",
    "    \n",
    "    emb = C[X].view(-1, emb_cat_size)\n",
    "\n",
    "    h = torch.tanh(emb @ W1 + b1) # 32 x 100\n",
    "\n",
    "    logits = h @ W2 + b2\n",
    "\n",
    "    loss = F.cross_entropy(logits, y)\n",
    "    if i % 1000 == 0:\n",
    "        print(loss.item())\n",
    "\n",
    "    for p in parameters:\n",
    "        p.grad = None\n",
    "\n",
    "    loss.backward()\n",
    "\n",
    "    for p in parameters:\n",
    "        p.data += -0.01 * p.grad"
   ]
  },
  {
   "cell_type": "code",
   "execution_count": null,
   "metadata": {},
   "outputs": [],
   "source": [
    "device = torch.device(\"cuda\" if torch.cuda.is_available() else \"cpu\")\n",
    "\n",
    "C = torch.randn(27, emb_size, device=device)\n",
    "\n",
    "W1 = torch.randn(emb_cat_size, 100, device=device) #6 x 100\n",
    "b1 = torch.randn(100, device=device) #1 x 100\n",
    "\n",
    "W2 = torch.randn(100, 27, device=device)\n",
    "b2 = torch.randn(27, device=device)\n",
    "\n",
    "parameters = [C, W1, b1, W2, b2]\n",
    "\n",
    "for p in parameters:\n",
    "    p.requires_grad = True"
   ]
  },
  {
   "cell_type": "code",
   "execution_count": 146,
   "metadata": {},
   "outputs": [
    {
     "name": "stdout",
     "output_type": "stream",
     "text": [
      "0.2552911341190338\n",
      "0.25491511821746826\n",
      "0.2546055018901825\n",
      "0.2543465793132782\n",
      "0.2541268765926361\n",
      "0.25393787026405334\n",
      "0.253773957490921\n",
      "0.2536304295063019\n",
      "0.253503680229187\n",
      "0.25339099764823914\n"
     ]
    }
   ],
   "source": [
    "for i in range(10000):\n",
    "    \n",
    "    emb = C[X].view(-1, emb_cat_size).to(device)\n",
    "\n",
    "    h = torch.tanh(emb @ W1 + b1) # 32 x 100\n",
    "\n",
    "    logits = h @ W2 + b2\n",
    "\n",
    "    loss = F.cross_entropy(logits, y.to(device))\n",
    "    if i % 1000 == 0:\n",
    "        print(loss.item())\n",
    "\n",
    "    for p in parameters:\n",
    "        p.grad = None\n",
    "\n",
    "    loss.backward()\n",
    "\n",
    "    for p in parameters:\n",
    "        p.data += -0.01 * p.grad.to(device)"
   ]
  },
  {
   "cell_type": "code",
   "execution_count": 36,
   "metadata": {},
   "outputs": [
    {
     "name": "stdout",
     "output_type": "stream",
     "text": [
      "14.507288932800293\n"
     ]
    }
   ],
   "source": [
    "# #mine combined - works, but above same code doesn't. Because defining the weights?\n",
    "# emb = C[X].view(-1, emb_cat_size)\n",
    "# h = torch.tanh(emb @ W1 + b1) # 32 x 100\n",
    "# logits = h @ W2 + b2\n",
    "# loss = F.cross_entropy(logits, y)\n",
    "# print(loss.item())\n",
    "# for p in parameters:\n",
    "#     p.grad = None\n",
    "# loss.backward()\n",
    "# for p in parameters:\n",
    "#     p.data += -0.01 * p.grad"
   ]
  },
  {
   "cell_type": "code",
   "execution_count": null,
   "metadata": {},
   "outputs": [],
   "source": [
    "# for _ in range(1):\n",
    "#     #forward pass\n",
    "#     emb = C[X] # (32, 3, 2)\n",
    "#     h = torch.tanh(emb.view(-1, 6) @ W1 + b1) # (32, 100)\n",
    "#     logits = h @ W2 + b2\n",
    "#     loss = F.cross_entropy(logits, y)\n",
    "#     print(loss.item())\n",
    "#     #backward pass\n",
    "#     for p in parameters:\n",
    "#         p.grad = None\n",
    "#     loss.backward()\n",
    "#     for p in parameters:\n",
    "#         p.data += -0.1 * p.grad"
   ]
  }
 ],
 "metadata": {
  "kernelspec": {
   "display_name": "Python 3",
   "language": "python",
   "name": "python3"
  },
  "language_info": {
   "codemirror_mode": {
    "name": "ipython",
    "version": 3
   },
   "file_extension": ".py",
   "mimetype": "text/x-python",
   "name": "python",
   "nbconvert_exporter": "python",
   "pygments_lexer": "ipython3",
   "version": "3.8.10"
  }
 },
 "nbformat": 4,
 "nbformat_minor": 4
}
