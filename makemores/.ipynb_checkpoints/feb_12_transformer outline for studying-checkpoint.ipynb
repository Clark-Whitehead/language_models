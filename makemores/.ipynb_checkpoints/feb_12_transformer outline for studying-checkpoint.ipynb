{
 "cells": [
  {
   "cell_type": "code",
   "execution_count": 1,
   "metadata": {},
   "outputs": [],
   "source": [
    "#imports\n",
    "import torch\n",
    "import torch.nn as nn\n",
    "import torch.nn.functional as F\n",
    "\n",
    "from tqdm import trange"
   ]
  },
  {
   "cell_type": "code",
   "execution_count": 84,
   "metadata": {},
   "outputs": [
    {
     "name": "stdout",
     "output_type": "stream",
     "text": [
      "tensor([], dtype=torch.int64)\n"
     ]
    },
    {
     "data": {
      "text/plain": [
       "tensor([], dtype=torch.int64)"
      ]
     },
     "execution_count": 84,
     "metadata": {},
     "output_type": "execute_result"
    }
   ],
   "source": [
    "# hyperparameters\n",
    "n_embd = 64\n",
    "n_blocks = 4\n",
    "block_size = 128\n",
    "batch_size = 32\n",
    "\n",
    "\n",
    "# torch seed 1337\n",
    "# torch.manual_seed(1337)\n",
    "\n",
    "# get the data\n",
    "text = open('../data/shakespeare.txt', 'r', encoding='utf-8').read()\n",
    "\n",
    "# here are all the unique characters that occur in this text\n",
    "chars = sorted(list(set(text)))\n",
    "\n",
    "# create a mapping from characters to integers : def encode & decode\n",
    "stoi = {s: i for i, s in enumerate(chars)}\n",
    "itos = {i: s for i, s in enumerate(chars)}\n",
    "encode = lambda s: list(stoi[c] for c in s)\n",
    "decode = lambda l: ''.join(itos[i] for i in l)\n",
    "\n",
    "# Train and test splits\n",
    "data = torch.tensor(encode(text), dtype=torch.long)\n",
    "n = int(0.9 * len(text))\n",
    "train_data = data[:n]\n",
    "val_data = data[n:]\n",
    "\n",
    "\n",
    "#data loading  - def get_batch function def (split) returns x, y\n",
    "def get_batch(split):\n",
    "    data = train_data if split == 'train' else val_data\n",
    "    ix = torch.randint(0, len(data) - (block_size), (batch_size,))\n",
    "    x = torch\n",
    "    \n",
    "    if split == 'train':\n",
    "        return train_data[idx:idx+block_size], train_data[idx+1:idx+block_size+1]\n",
    "        \n",
    "    else:\n",
    "        return val_data[idx:idx+block_size], val_data[idx+1:idx+block_size+1]\n",
    "        \n",
    "\n",
    "x, y = get_batch('train')\n",
    "print(x)\n",
    "y\n",
    "    \n",
    "\n",
    "\n",
    "# def estimate_loss() @torch.no_grad() : model.eval() -> model.train()\n",
    "\n",
    "# def Head module class\n",
    "\n",
    "# def multihead attention module class\n",
    "    \n",
    "# def feedforward module class\n",
    "\n",
    "# def block module class\n",
    "\n",
    "# def n-gram model class\n",
    "\n",
    "# instantiate n-gram model : set it to device\n",
    "\n",
    "# print the number of parameters in the model\n",
    "\n",
    "\n",
    "# create a PyTorch optimizer\n",
    "\n",
    "# for loop to train the model\n"
   ]
  },
  {
   "cell_type": "code",
   "execution_count": 7,
   "metadata": {},
   "outputs": [],
   "source": [
    "# estimate loss()\n"
   ]
  },
  {
   "cell_type": "code",
   "execution_count": 8,
   "metadata": {},
   "outputs": [],
   "source": [
    "# generate from the model\n"
   ]
  },
  {
   "cell_type": "code",
   "execution_count": null,
   "metadata": {},
   "outputs": [],
   "source": [
    "# # hyperparameters\n",
    "# batch_size = 32\n",
    "# block_size = 128\n",
    "# max_iters = 5000\n",
    "# eval_interval = 100\n",
    "# learning_rate = 1e-3\n",
    "# device = 'cuda' if torch.cuda.is_available() else 'cpu'\n",
    "# eval_iters = 200\n",
    "# n_embd = 128\n",
    "# n_head = 4\n",
    "# n_layer = 8\n",
    "# dropout = 0.1\n",
    "# #-----------"
   ]
  },
  {
   "cell_type": "code",
   "execution_count": null,
   "metadata": {},
   "outputs": [],
   "source": []
  },
  {
   "cell_type": "code",
   "execution_count": null,
   "metadata": {},
   "outputs": [],
   "source": []
  },
  {
   "cell_type": "code",
   "execution_count": null,
   "metadata": {},
   "outputs": [],
   "source": []
  },
  {
   "cell_type": "code",
   "execution_count": null,
   "metadata": {},
   "outputs": [],
   "source": []
  },
  {
   "cell_type": "code",
   "execution_count": null,
   "metadata": {},
   "outputs": [],
   "source": []
  },
  {
   "cell_type": "code",
   "execution_count": null,
   "metadata": {},
   "outputs": [],
   "source": []
  },
  {
   "cell_type": "code",
   "execution_count": null,
   "metadata": {},
   "outputs": [],
   "source": []
  },
  {
   "cell_type": "code",
   "execution_count": null,
   "metadata": {},
   "outputs": [],
   "source": []
  },
  {
   "cell_type": "code",
   "execution_count": null,
   "metadata": {},
   "outputs": [],
   "source": []
  },
  {
   "cell_type": "code",
   "execution_count": null,
   "metadata": {},
   "outputs": [],
   "source": []
  },
  {
   "cell_type": "code",
   "execution_count": null,
   "metadata": {},
   "outputs": [],
   "source": []
  },
  {
   "cell_type": "code",
   "execution_count": null,
   "metadata": {},
   "outputs": [],
   "source": []
  }
 ],
 "metadata": {
  "kernelspec": {
   "display_name": "Python 3",
   "language": "python",
   "name": "python3"
  },
  "language_info": {
   "codemirror_mode": {
    "name": "ipython",
    "version": 3
   },
   "file_extension": ".py",
   "mimetype": "text/x-python",
   "name": "python",
   "nbconvert_exporter": "python",
   "pygments_lexer": "ipython3",
   "version": "3.8.10"
  }
 },
 "nbformat": 4,
 "nbformat_minor": 4
}
