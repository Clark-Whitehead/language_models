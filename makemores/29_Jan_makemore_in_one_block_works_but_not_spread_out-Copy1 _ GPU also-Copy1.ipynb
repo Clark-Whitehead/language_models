{
 "cells": [
  {
   "cell_type": "code",
   "execution_count": 1,
   "metadata": {},
   "outputs": [],
   "source": [
    "import torch\n",
    "import torch.nn.functional as F\n",
    "\n",
    "import matplotlib.pyplot as plt\n",
    "plt.style.use('ggplot')\n",
    "\n",
    "import time\n",
    "\n",
    "import numpy as np"
   ]
  },
  {
   "cell_type": "code",
   "execution_count": 2,
   "metadata": {},
   "outputs": [
    {
     "data": {
      "text/plain": [
       "['emma', 'olivia', 'ava', 'isabella', 'sophia']"
      ]
     },
     "execution_count": 2,
     "metadata": {},
     "output_type": "execute_result"
    }
   ],
   "source": [
    "names = open('../data/names.txt', 'r').read().splitlines()\n",
    "names[:5]"
   ]
  },
  {
   "cell_type": "code",
   "execution_count": 3,
   "metadata": {},
   "outputs": [],
   "source": [
    "chs = sorted(set(''.join(names)))\n",
    "stoi = {s: i+1 for i, s in enumerate(chs)}\n",
    "stoi['.'] = 0\n",
    "itos = {i: s for s, i in stoi.items()}"
   ]
  },
  {
   "cell_type": "code",
   "execution_count": 4,
   "metadata": {},
   "outputs": [],
   "source": [
    "#create data set\n",
    "X, y = [], []\n",
    "\n",
    "block_size = 7\n",
    "emb_size = 6\n",
    "emb_cat_size = block_size * emb_size\n",
    "\n",
    "\n",
    "for name in names:\n",
    "    \n",
    "    context = [0] * block_size\n",
    "    \n",
    "    for ch in name + '.':\n",
    "        \n",
    "        idx = stoi[ch]\n",
    "        \n",
    "        X.append(context)\n",
    "        y.append(idx)\n",
    "        \n",
    "        \n",
    "        context = context[1:] + [idx]      \n",
    "        \n",
    "X = torch.tensor(X)\n",
    "y = torch.tensor(y)\n",
    "\n",
    "# X"
   ]
  },
  {
   "cell_type": "code",
   "execution_count": 5,
   "metadata": {},
   "outputs": [
    {
     "data": {
      "text/plain": [
       "torch.Size([228146, 7])"
      ]
     },
     "execution_count": 5,
     "metadata": {},
     "output_type": "execute_result"
    }
   ],
   "source": [
    "X.shape"
   ]
  },
  {
   "cell_type": "code",
   "execution_count": 6,
   "metadata": {},
   "outputs": [],
   "source": [
    "C = torch.randn(27, emb_size)"
   ]
  },
  {
   "cell_type": "code",
   "execution_count": 7,
   "metadata": {},
   "outputs": [
    {
     "data": {
      "text/plain": [
       "torch.Size([228146, 7])"
      ]
     },
     "execution_count": 7,
     "metadata": {},
     "output_type": "execute_result"
    }
   ],
   "source": [
    "X.shape"
   ]
  },
  {
   "cell_type": "code",
   "execution_count": 8,
   "metadata": {},
   "outputs": [],
   "source": [
    "W1 = torch.randn(emb_cat_size, 5000) #6 x 100\n",
    "b1 = torch.randn(5000) #1 x 100"
   ]
  },
  {
   "cell_type": "code",
   "execution_count": 9,
   "metadata": {},
   "outputs": [],
   "source": [
    "W2 = torch.randn(5000, 27)\n",
    "b2 = torch.randn(27)"
   ]
  },
  {
   "cell_type": "code",
   "execution_count": 10,
   "metadata": {},
   "outputs": [],
   "source": [
    "parameters = [C, W1, b1, W2, b2]\n",
    "for p in parameters:\n",
    "    p.requires_grad = True"
   ]
  },
  {
   "cell_type": "code",
   "execution_count": 11,
   "metadata": {},
   "outputs": [
    {
     "data": {
      "text/plain": [
       "'# of parameters = 350189'"
      ]
     },
     "execution_count": 11,
     "metadata": {},
     "output_type": "execute_result"
    }
   ],
   "source": [
    "f\"# of parameters = {sum(p.nelement() for p in parameters)}\""
   ]
  },
  {
   "cell_type": "code",
   "execution_count": 12,
   "metadata": {},
   "outputs": [],
   "source": [
    "emb = C[X].view(-1, emb_cat_size)"
   ]
  },
  {
   "cell_type": "code",
   "execution_count": 13,
   "metadata": {},
   "outputs": [],
   "source": [
    "h = torch.tanh(emb @ W1 + b1) # 32 x 100"
   ]
  },
  {
   "cell_type": "code",
   "execution_count": 14,
   "metadata": {},
   "outputs": [
    {
     "data": {
      "text/plain": [
       "tensor(118.2992, grad_fn=<NllLossBackward0>)"
      ]
     },
     "execution_count": 14,
     "metadata": {},
     "output_type": "execute_result"
    }
   ],
   "source": [
    "logits = h @ W2 + b2\n",
    "\n",
    "loss = F.cross_entropy(logits, y)\n",
    "loss"
   ]
  },
  {
   "cell_type": "code",
   "execution_count": 15,
   "metadata": {},
   "outputs": [],
   "source": [
    "for p in parameters:\n",
    "    p.grad = None"
   ]
  },
  {
   "cell_type": "code",
   "execution_count": 16,
   "metadata": {},
   "outputs": [],
   "source": [
    "loss.backward()"
   ]
  },
  {
   "cell_type": "code",
   "execution_count": 17,
   "metadata": {},
   "outputs": [],
   "source": [
    "for p in parameters:\n",
    "    p.data += -0.01 * p.grad"
   ]
  },
  {
   "cell_type": "code",
   "execution_count": 18,
   "metadata": {},
   "outputs": [
    {
     "name": "stdout",
     "output_type": "stream",
     "text": [
      "118.29915618896484\n"
     ]
    }
   ],
   "source": [
    "print(loss.item())"
   ]
  },
  {
   "cell_type": "code",
   "execution_count": 21,
   "metadata": {},
   "outputs": [],
   "source": [
    "# device = torch.device(\"cuda\" if torch.cuda.is_available() else \"cpu\")\n",
    "device = \"cpu\"\n",
    "\n",
    "C = torch.randn(27, emb_size, device=device)\n",
    "\n",
    "W1 = torch.randn(emb_cat_size, 100, device=device) #6 x 100\n",
    "b1 = torch.randn(100, device=device) #1 x 100\n",
    "\n",
    "W2 = torch.randn(100, 27, device=device)\n",
    "b2 = torch.randn(27, device=device)\n",
    "\n",
    "parameters = [C, W1, b1, W2, b2]\n",
    "\n",
    "for p in parameters:\n",
    "    p.requires_grad = True"
   ]
  },
  {
   "cell_type": "code",
   "execution_count": 69,
   "metadata": {},
   "outputs": [
    {
     "name": "stdout",
     "output_type": "stream",
     "text": [
      "2.444732904434204\n",
      "2.3186709880828857\n",
      "2.6194827556610107\n",
      "2.479647636413574\n",
      "1.9407607316970825\n",
      "2.1868958473205566\n",
      "2.6487743854522705\n",
      "2.1424546241760254\n",
      "2.5598602294921875\n",
      "2.1563127040863037\n",
      "2.32039737701416\n",
      "2.280773162841797\n",
      "2.4730255603790283\n",
      "2.6773934364318848\n",
      "2.486020803451538\n",
      "1.9613206386566162\n",
      "2.1733033657073975\n",
      "1.7908669710159302\n",
      "2.208547592163086\n",
      "2.4667906761169434\n"
     ]
    },
    {
     "data": {
      "text/plain": [
       "154.72027921676636"
      ]
     },
     "execution_count": 69,
     "metadata": {},
     "output_type": "execute_result"
    }
   ],
   "source": [
    "startTime = time.time()\n",
    "\n",
    "for i in range(200_000):\n",
    "    \n",
    "    # minibatch construct\n",
    "    ix = torch.randint(0, X.shape[0], (32,))\n",
    "    \n",
    "    emb = C[X[ix]].view(-1, emb_cat_size).to(device)\n",
    "\n",
    "    h = torch.tanh(emb @ W1 + b1) # 32 x 100\n",
    "\n",
    "    logits = h @ W2 + b2\n",
    "\n",
    "    loss = F.cross_entropy(logits, y.to(device)[ix])\n",
    "    if i % 10_000 == 0:\n",
    "        print(loss.item())\n",
    "\n",
    "    for p in parameters:\n",
    "        p.grad = None\n",
    "\n",
    "    loss.backward()\n",
    "\n",
    "    lr = 0.1 if i < 100000 else 0.01\n",
    "    for p in parameters:\n",
    "        p.data += -lr * p.grad.to(device)\n",
    "        \n",
    "endTime = time.time()\n",
    "\n",
    "totalTime = endTime - startTime\n",
    "totalTime"
   ]
  },
  {
   "cell_type": "code",
   "execution_count": 67,
   "metadata": {},
   "outputs": [
    {
     "data": {
      "image/png": "[encoded data removed]",
      "text/plain": [
       "<Figure size 576x576 with 1 Axes>"
      ]
     },
     "metadata": {
      "needs_background": "light"
     },
     "output_type": "display_data"
    }
   ],
   "source": [
    "z = C.detach().cpu().numpy()\n",
    "\n",
    "z.shape\n",
    "\n",
    "plt.figure(figsize=(8, 8))\n",
    "plt.scatter(z[:, 2].data, z[:, 3].data, s=200)\n",
    "for i in range(z.shape[0]):\n",
    "    plt.text(z[i, 2].item(), z[i, 3].item(), itos[i], ha=\"center\", va=\"center\", color=\"white\")\n",
    "plt.grid('minor')    "
   ]
  },
  {
   "cell_type": "code",
   "execution_count": 68,
   "metadata": {},
   "outputs": [
    {
     "name": "stdout",
     "output_type": "stream",
     "text": [
      "careah.\n",
      "aabyil.\n",
      "khiimr.\n",
      "xheety.\n",
      "salas.\n",
      "keja.\n",
      "hutefape.\n",
      "artiiahei.\n",
      "nermara.\n",
      "ceriiv.\n",
      "kalegy.\n",
      "dham.\n",
      "join.\n",
      "quilt.\n",
      "sroilea.\n",
      "jadiq.\n",
      "wazero.\n",
      "dearyni.\n",
      "ficenni.\n",
      "satle.\n"
     ]
    }
   ],
   "source": [
    "# sample from the model\n",
    "g = torch.Generator().manual_seed(2147483647 + 10)\n",
    "\n",
    "for _ in range(20):\n",
    "    \n",
    "    out = []\n",
    "    context = [0] * block_size # initialize with all ...\n",
    "    while True:\n",
    "      emb = C[torch.tensor([context])] # (1,block_size,d)\n",
    "      h = torch.tanh(emb.view(1, -1) @ W1 + b1)\n",
    "      logits = h @ W2 + b2\n",
    "      probs = F.softmax(logits, dim=1)\n",
    "      ix = torch.multinomial(probs, num_samples=1, generator=g).item()\n",
    "      context = context[1:] + [ix]\n",
    "      out.append(ix)\n",
    "      if ix == 0:\n",
    "        break\n",
    "    \n",
    "    print(''.join(itos[i] for i in out))\n",
    "\n"
   ]
  },
  {
   "cell_type": "code",
   "execution_count": 73,
   "metadata": {},
   "outputs": [
    {
     "data": {
      "text/plain": [
       "2.3168016195297243"
      ]
     },
     "execution_count": 73,
     "metadata": {},
     "output_type": "execute_result"
    }
   ],
   "source": [
    "num = np.array([2.444732904434204,\n",
    "2.3186709880828857,\n",
    "2.6194827556610107,\n",
    "2.479647636413574,\n",
    "1.9407607316970825,\n",
    "2.1868958473205566,\n",
    "2.6487743854522705,\n",
    "2.1424546241760254,\n",
    "2.5598602294921875,\n",
    "2.1563127040863037,\n",
    "2.32039737701416,\n",
    "2.280773162841797,\n",
    "2.4730255603790283,\n",
    "2.6773934364318848,\n",
    "2.486020803451538,\n",
    "1.9613206386566162,\n",
    "2.1733033657073975,\n",
    "1.7908669710159302,\n",
    "2.208547592163086,\n",
    "2.4667906761169434])\n",
    "sum(num)/ num.shape[0]\n"
   ]
  }
 ],
 "metadata": {
  "kernelspec": {
   "display_name": "Python 3",
   "language": "python",
   "name": "python3"
  },
  "language_info": {
   "codemirror_mode": {
    "name": "ipython",
    "version": 3
   },
   "file_extension": ".py",
   "mimetype": "text/x-python",
   "name": "python",
   "nbconvert_exporter": "python",
   "pygments_lexer": "ipython3",
   "version": "3.8.10"
  }
 },
 "nbformat": 4,
 "nbformat_minor": 4
}
