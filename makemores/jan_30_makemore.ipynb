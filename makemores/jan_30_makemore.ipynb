{
 "cells": [
  {
   "cell_type": "code",
   "execution_count": 1,
   "metadata": {},
   "outputs": [],
   "source": [
    "import torch\n",
    "import torch.nn.functional as F\n",
    "\n"
   ]
  },
  {
   "cell_type": "code",
   "execution_count": 2,
   "metadata": {},
   "outputs": [
    {
     "data": {
      "text/plain": [
       "['emma', 'olivia', 'ava', 'isabella', 'sophia']"
      ]
     },
     "execution_count": 2,
     "metadata": {},
     "output_type": "execute_result"
    }
   ],
   "source": [
    "names = open('../data/names.txt', 'r').read().splitlines()\n",
    "names[:5]"
   ]
  },
  {
   "cell_type": "code",
   "execution_count": 3,
   "metadata": {},
   "outputs": [],
   "source": [
    "chs = sorted(set(''.join(names)))\n",
    "stoi = {s: i+1 for i, s in enumerate(chs)}\n",
    "stoi['.'] = 0\n",
    "itos = {i: s for s, i in stoi.items()}"
   ]
  },
  {
   "cell_type": "code",
   "execution_count": 4,
   "metadata": {},
   "outputs": [],
   "source": [
    "X, y = [], []\n",
    "\n",
    "block_size = 3\n",
    "\n",
    "\n",
    "for name in names:\n",
    "    \n",
    "    context = [0] * block_size\n",
    "    \n",
    "    for ch in name + '.':\n",
    "        \n",
    "        idx = stoi[ch]\n",
    "        \n",
    "        X.append(context)\n",
    "        y.append(idx)\n",
    "        \n",
    "        context = context[1:] + [idx]\n",
    "    \n",
    "X = torch.tensor(X)\n",
    "y = torch.tensor(y)"
   ]
  },
  {
   "cell_type": "code",
   "execution_count": 6,
   "metadata": {},
   "outputs": [],
   "source": [
    "emb_size = 2\n",
    "C = torch.randn(X.shape[0], emb_size)\n",
    "W1 = torch.randn(C.shape[1] * block_size, 100)\n",
    "b1 = torch.randn(100)\n",
    "W2 = torch.randn(100, 27)\n",
    "b2 = torch.randn(27)\n",
    "parameters = [C, W1, b1, W2, b2]\n",
    "for p in parameters:\n",
    "    p.requires_grad = True"
   ]
  },
  {
   "cell_type": "code",
   "execution_count": 7,
   "metadata": {},
   "outputs": [
    {
     "data": {
      "text/plain": [
       "torch.Size([228146, 6])"
      ]
     },
     "execution_count": 7,
     "metadata": {},
     "output_type": "execute_result"
    }
   ],
   "source": [
    "emb = C[X].view(-1, emb_size*block_size)\n",
    "emb.shape"
   ]
  },
  {
   "cell_type": "code",
   "execution_count": 8,
   "metadata": {},
   "outputs": [
    {
     "data": {
      "text/plain": [
       "torch.Size([228146, 100])"
      ]
     },
     "execution_count": 8,
     "metadata": {},
     "output_type": "execute_result"
    }
   ],
   "source": [
    "h = torch.tanh(emb @ W1 + b1)\n",
    "h.shape"
   ]
  },
  {
   "cell_type": "code",
   "execution_count": 9,
   "metadata": {},
   "outputs": [
    {
     "data": {
      "text/plain": [
       "tensor([[  6.7799,   3.6519,   2.0483,  ...,  10.3901,  -4.2688,   3.4928],\n",
       "        [  3.5535,  10.7990,  -2.2045,  ...,   9.7832,  -8.4031,   8.0200],\n",
       "        [ -1.5537,  12.3513,  -8.3341,  ...,   6.6112,   0.6207,  13.7417],\n",
       "        ...,\n",
       "        [  1.7672, -10.0364,  -6.9470,  ...,  -5.3411,  -9.3878,  -9.7148],\n",
       "        [ -1.1193, -10.3435, -13.0041,  ...,   0.4428,  -3.7063,  -5.6216],\n",
       "        [  3.7308,  -3.2651, -17.6721,  ...,   5.2089,  -6.1043,   1.4450]],\n",
       "       grad_fn=<AddBackward0>)"
      ]
     },
     "execution_count": 9,
     "metadata": {},
     "output_type": "execute_result"
    }
   ],
   "source": [
    "logits = h @ W2 + b2\n",
    "logits"
   ]
  },
  {
   "cell_type": "code",
   "execution_count": 10,
   "metadata": {},
   "outputs": [
    {
     "data": {
      "text/plain": [
       "tensor(13.3536, grad_fn=<NllLossBackward0>)"
      ]
     },
     "execution_count": 10,
     "metadata": {},
     "output_type": "execute_result"
    }
   ],
   "source": [
    "loss = F.cross_entropy(logits, y)\n",
    "loss"
   ]
  },
  {
   "cell_type": "code",
   "execution_count": 11,
   "metadata": {},
   "outputs": [],
   "source": [
    "for p in parameters:\n",
    "    p.grad = None"
   ]
  },
  {
   "cell_type": "code",
   "execution_count": 12,
   "metadata": {},
   "outputs": [],
   "source": [
    "loss.backward()"
   ]
  },
  {
   "cell_type": "code",
   "execution_count": 13,
   "metadata": {},
   "outputs": [],
   "source": [
    "for p in parameters:\n",
    "    p.data += -0.1 * p.grad"
   ]
  },
  {
   "cell_type": "code",
   "execution_count": 54,
   "metadata": {},
   "outputs": [
    {
     "name": "stdout",
     "output_type": "stream",
     "text": [
      "2.207291841506958\n",
      "2.3573668003082275\n",
      "2.1506762504577637\n",
      "2.90224289894104\n",
      "2.4033026695251465\n",
      "2.4140212535858154\n",
      "2.281104803085327\n",
      "2.1587536334991455\n",
      "2.129782199859619\n",
      "2.335639715194702\n"
     ]
    },
    {
     "data": {
      "text/plain": [
       "'avg loss = 2.3340182065963746'"
      ]
     },
     "execution_count": 54,
     "metadata": {},
     "output_type": "execute_result"
    }
   ],
   "source": [
    "losses = []\n",
    "\n",
    "for i in range(100_000):\n",
    "    \n",
    "    ix = torch.randint(0, X.shape[0], (1, 32))\n",
    "    \n",
    "    emb = C[X[ix]].view(-1, emb_size*block_size)\n",
    "    h = torch.tanh(emb @ W1 + b1)\n",
    "    logits = h @ W2 + b2\n",
    "    loss = F.cross_entropy(logits, y[ix][0])\n",
    "    \n",
    "    if i % 10_000 == 0:\n",
    "        print(loss.item())\n",
    "        losses.append(loss.item())\n",
    "    \n",
    "    for p in parameters:\n",
    "        p.grad = None\n",
    "        \n",
    "    loss.backward()\n",
    "    \n",
    "    for p in parameters:\n",
    "        p.data += -0.1 * p.grad\n",
    "        \n",
    "f\"avg loss = {sum(losses) / len(losses)}\""
   ]
  },
  {
   "cell_type": "code",
   "execution_count": 84,
   "metadata": {},
   "outputs": [
    {
     "name": "stdout",
     "output_type": "stream",
     "text": [
      "sur\n",
      "milismana\n",
      "tevpel\n",
      "das\n",
      "horsie\n",
      "lon\n",
      "slavy\n",
      "quon\n",
      "elia\n",
      "jaytana\n"
     ]
    }
   ],
   "source": [
    "for _ in range(10):\n",
    "\n",
    "    ch = [0] * block_size\n",
    "    \n",
    "    new_name = []\n",
    "    \n",
    "    while True:\n",
    "\n",
    "        emb = C[ch].view(block_size * emb_size)\n",
    "        h = torch.tanh(emb @ W1 + b1)\n",
    "        logits = h @ W2 + b2\n",
    "        counts = logits.exp()\n",
    "        probs = counts / counts.sum()\n",
    "\n",
    "        out = torch.multinomial(probs, 1)\n",
    "        \n",
    "        if out == 0:\n",
    "            break\n",
    "        \n",
    "        new_name.append(itos[out.item()])\n",
    "        \n",
    "        ch = ch[1:] + [out.item()]\n",
    "        \n",
    "    print(''.join(new_name))\n",
    "\n"
   ]
  },
  {
   "cell_type": "code",
   "execution_count": null,
   "metadata": {},
   "outputs": [],
   "source": []
  },
  {
   "cell_type": "code",
   "execution_count": null,
   "metadata": {},
   "outputs": [],
   "source": []
  },
  {
   "cell_type": "code",
   "execution_count": null,
   "metadata": {},
   "outputs": [],
   "source": []
  },
  {
   "cell_type": "code",
   "execution_count": null,
   "metadata": {},
   "outputs": [],
   "source": []
  },
  {
   "cell_type": "code",
   "execution_count": null,
   "metadata": {},
   "outputs": [],
   "source": []
  },
  {
   "cell_type": "code",
   "execution_count": null,
   "metadata": {},
   "outputs": [],
   "source": []
  },
  {
   "cell_type": "code",
   "execution_count": null,
   "metadata": {},
   "outputs": [],
   "source": []
  },
  {
   "cell_type": "code",
   "execution_count": null,
   "metadata": {},
   "outputs": [],
   "source": []
  },
  {
   "cell_type": "code",
   "execution_count": null,
   "metadata": {},
   "outputs": [],
   "source": []
  },
  {
   "cell_type": "code",
   "execution_count": null,
   "metadata": {},
   "outputs": [],
   "source": []
  }
 ],
 "metadata": {
  "kernelspec": {
   "display_name": "Python 3",
   "language": "python",
   "name": "python3"
  },
  "language_info": {
   "codemirror_mode": {
    "name": "ipython",
    "version": 3
   },
   "file_extension": ".py",
   "mimetype": "text/x-python",
   "name": "python",
   "nbconvert_exporter": "python",
   "pygments_lexer": "ipython3",
   "version": "3.8.10"
  }
 },
 "nbformat": 4,
 "nbformat_minor": 4
}
